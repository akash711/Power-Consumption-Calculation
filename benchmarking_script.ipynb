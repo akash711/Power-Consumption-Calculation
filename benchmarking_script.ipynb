{
 "cells": [
  {
   "cell_type": "code",
   "execution_count": 3,
   "metadata": {},
   "outputs": [],
   "source": [
    "import pandas as pd\n",
    "import numpy as np\n",
    "from datetime import datetime, timedelta\n",
    "from timeit import default_timer as timer\n",
    "import warnings\n",
    "warnings.filterwarnings(\"ignore\")"
   ]
  },
  {
   "cell_type": "code",
   "execution_count": 4,
   "metadata": {},
   "outputs": [],
   "source": [
    "forecast_data = pd.read_excel('data.xlsx', sheet_name = 'Forecasted Consumption')\n",
    "rates = pd.read_excel('data.xlsx', sheet_name='Rates')\n",
    "rates = rates.fillna(np.inf)\n",
    "meter_list = pd.read_excel('data.xlsx', sheet_name='Meter List')"
   ]
  },
  {
   "cell_type": "markdown",
   "metadata": {},
   "source": [
    "### 1. Calculating total consumption and cost for the given data"
   ]
  },
  {
   "cell_type": "code",
   "execution_count": null,
   "metadata": {},
   "outputs": [],
   "source": []
  },
  {
   "cell_type": "code",
   "execution_count": 274,
   "metadata": {},
   "outputs": [
    {
     "name": "stdout",
     "output_type": "stream",
     "text": [
      "                 kWh  Cost in GBP\n",
      "Meter ID                         \n",
      "10588707    122450.0        28.50\n",
      "10626610    303558.0        88.24\n",
      "1000000603   24674.0         8.27\n",
      "Time elapsed:  49.85 ms\n"
     ]
    }
   ],
   "source": [
    "#Joining consumption data with meter list\n",
    "start = timer()\n",
    "temp = forecast_data.merge(meter_list, on = 'Meter ID', how = 'left')\n",
    "\n",
    "#Unique periods and consumption ranges\n",
    "periods = rates['Date'].unique()\n",
    "aq_range = rates['Annual Quantity (Min)'].unique()\n",
    "\n",
    "cond = [(aq_range[0] <= temp['Annual Quantity (kWh)'].values) & (temp['Annual Quantity (kWh)'].values < aq_range[1]),\n",
    "(aq_range[1] <= temp['Annual Quantity (kWh)'].values) & (temp['Annual Quantity (kWh)'].values < aq_range[2]),\n",
    "(temp['Annual Quantity (kWh)'].values > aq_range[2])]\n",
    "choice = aq_range\n",
    "\n",
    "#Creating Annual Quantity and Date to join Rate Table\n",
    "temp['Annual Quantity (Min)'] = np.select(cond, choice)\n",
    "\n",
    "for i in range(len(periods)-1):\n",
    "    temp['Date'][np.where((periods[i] <= temp['Date']) & (temp['Date'] < periods[i+1]))[0]] = periods[i]\n",
    "\n",
    "#Joining Rate Table with Consumption to obtain correct rates per row\n",
    "merged_data = temp.merge(rates, how = 'left')\n",
    "merged_data['Cost in GBP'] = (merged_data['kWh'] * merged_data['Rate (p/kWh)']) * 0.01\n",
    "\n",
    "#Return Total Consumption and Cost in GBP for all meters\n",
    "print(merged_data[['Meter ID', 'kWh','Cost in GBP']].groupby('Meter ID').sum().round(2))\n",
    "stop = timer()\n",
    "print('Time elapsed: ', round((stop - start)*1000, 2), 'ms')"
   ]
  },
  {
   "cell_type": "markdown",
   "metadata": {},
   "source": [
    "### 2. Function to generate random list of meters"
   ]
  },
  {
   "cell_type": "code",
   "execution_count": 275,
   "metadata": {},
   "outputs": [],
   "source": [
    "# Part 2\n",
    "exit_zone = rates['Exit Zone'].unique() #Fetch unique exit zones\n",
    "def generate_meters(length):\n",
    "    \"\"\"\n",
    "    Function to generate valid meters of given length\n",
    "    Returns meter table with Meter ID, Exit Zone and Annual Quantity in kWh\n",
    "    \"\"\"\n",
    "    \n",
    "    meters = pd.DataFrame(index=range(length), columns=['Meter ID', 'Exit Zone', 'Annual Quantity (kWh)'])\n",
    "    meters['Meter ID'] = [np.random.randint(0,100000) for i in range(length)]\n",
    "    meters['Exit Zone'] = [exit_zone[np.random.randint(0,len(exit_zone))] for i in range(length)]\n",
    "    meters['Annual Quantity (kWh)'] = [np.random.randint(0, 1000000) for i in range(length)]\n",
    "    return meters"
   ]
  },
  {
   "cell_type": "markdown",
   "metadata": {},
   "source": [
    "### 3. Function to generate consumption data for a given list of meters for a fixed period"
   ]
  },
  {
   "cell_type": "code",
   "execution_count": 276,
   "metadata": {},
   "outputs": [],
   "source": [
    "# Part 3\n",
    "def generate_consumption(meters, start, end):\n",
    "\n",
    "    \"\"\" \n",
    "    Function to generate mock consumption data for a given meter list, start and end date\n",
    "    Takes a list of meters, annual consumption per meter and generates valid consumption data in appropriate ranges\n",
    "\n",
    "    \"\"\"\n",
    "\n",
    "    n_days = (end - start).days\n",
    "    consumption_data = pd.DataFrame(index = range(len(meters)*n_days), columns = ['Date', 'Meter ID', 'kWh'])\n",
    "    dates = []\n",
    "    \n",
    "    for i in range(len(meters)):\n",
    "        dates += [start + timedelta(days=x) for x in range(n_days)]\n",
    "\n",
    "    consumption_data['Date'] = dates\n",
    "\n",
    "    meter_id = []\n",
    "    for i in range(len(meters)):\n",
    "        meter_id += [meters['Meter ID'][i] for j in range(n_days)]\n",
    "    \n",
    "    consumption_data['Meter ID'] = meter_id\n",
    "    kWh = []\n",
    "    for i in range(len(meters)):\n",
    "        daily_avg = meters['Annual Quantity (kWh)'][i]/365\n",
    "        kWh += [ daily_avg + (np.random.randint(-5,5)*0.1*daily_avg) for j in range(n_days) ]\n",
    "\n",
    "    consumption_data['kWh'] = kWh\n",
    "\n",
    "    return consumption_data"
   ]
  },
  {
   "cell_type": "markdown",
   "metadata": {},
   "source": [
    "### 4. Function to calculate total costs and consumption "
   ]
  },
  {
   "cell_type": "code",
   "execution_count": 277,
   "metadata": {},
   "outputs": [],
   "source": [
    "def calculate_total(meters, consumption, rates):\n",
    "    \n",
    "    \"\"\"\n",
    "    Function to calculate total Transportation Costs given a list of meters, consumption data and rate table\n",
    "\n",
    "    Returns DataFrame with MeterID, total consumption for entire period (kWh) and total cost (GBP)\n",
    "    \"\"\"\n",
    "    \n",
    "    \n",
    "    temp = consumption.merge(meters, on = 'Meter ID', how = 'left')\n",
    "\n",
    "    \n",
    "    periods = rates['Date'].unique()\n",
    "    aq_range = rates['Annual Quantity (Min)'].unique()\n",
    "\n",
    "    cond = [(aq_range[0] <= temp['Annual Quantity (kWh)'].values) & (temp['Annual Quantity (kWh)'].values < aq_range[1]),\n",
    "    (aq_range[1] <= temp['Annual Quantity (kWh)'].values) & (temp['Annual Quantity (kWh)'].values < aq_range[2]),\n",
    "    (temp['Annual Quantity (kWh)'].values > aq_range[2])]\n",
    "    choice = aq_range\n",
    "\n",
    "    \n",
    "    temp['Annual Quantity (Min)'] = np.select(cond, choice)\n",
    "\n",
    "    for i in range(len(periods)-1):\n",
    "        temp['Date'][np.where((periods[i] <= temp['Date']) & (temp['Date'] < periods[i+1]))[0]] = periods[i]\n",
    "\n",
    "    \n",
    "    merged_data = temp.merge(rates, how = 'left')\n",
    "    merged_data['Cost in GBP'] = (merged_data['kWh'] * merged_data['Rate (p/kWh)']) * 0.01\n",
    "\n",
    "    #Return Total Consumption and Cost in GBP for all meters\n",
    "    return merged_data[['Meter ID', 'kWh','Cost in GBP']].groupby('Meter ID').sum().round(2)"
   ]
  },
  {
   "cell_type": "code",
   "execution_count": 278,
   "metadata": {},
   "outputs": [
    {
     "data": {
      "text/html": [
       "<div>\n",
       "<style scoped>\n",
       "    .dataframe tbody tr th:only-of-type {\n",
       "        vertical-align: middle;\n",
       "    }\n",
       "\n",
       "    .dataframe tbody tr th {\n",
       "        vertical-align: top;\n",
       "    }\n",
       "\n",
       "    .dataframe thead th {\n",
       "        text-align: right;\n",
       "    }\n",
       "</style>\n",
       "<table border=\"1\" class=\"dataframe\">\n",
       "  <thead>\n",
       "    <tr style=\"text-align: right;\">\n",
       "      <th></th>\n",
       "      <th>kWh</th>\n",
       "      <th>Cost in GBP</th>\n",
       "    </tr>\n",
       "    <tr>\n",
       "      <th>Meter ID</th>\n",
       "      <th></th>\n",
       "      <th></th>\n",
       "    </tr>\n",
       "  </thead>\n",
       "  <tbody>\n",
       "    <tr>\n",
       "      <th>12455</th>\n",
       "      <td>512132.34</td>\n",
       "      <td>150.75</td>\n",
       "    </tr>\n",
       "    <tr>\n",
       "      <th>20553</th>\n",
       "      <td>213474.88</td>\n",
       "      <td>64.09</td>\n",
       "    </tr>\n",
       "    <tr>\n",
       "      <th>28378</th>\n",
       "      <td>94886.72</td>\n",
       "      <td>32.05</td>\n",
       "    </tr>\n",
       "    <tr>\n",
       "      <th>37792</th>\n",
       "      <td>109346.88</td>\n",
       "      <td>36.81</td>\n",
       "    </tr>\n",
       "    <tr>\n",
       "      <th>57652</th>\n",
       "      <td>1763842.71</td>\n",
       "      <td>4334.88</td>\n",
       "    </tr>\n",
       "    <tr>\n",
       "      <th>58096</th>\n",
       "      <td>758279.81</td>\n",
       "      <td>227.65</td>\n",
       "    </tr>\n",
       "    <tr>\n",
       "      <th>73309</th>\n",
       "      <td>1236076.81</td>\n",
       "      <td>370.95</td>\n",
       "    </tr>\n",
       "    <tr>\n",
       "      <th>74390</th>\n",
       "      <td>619893.16</td>\n",
       "      <td>145.56</td>\n",
       "    </tr>\n",
       "    <tr>\n",
       "      <th>90564</th>\n",
       "      <td>1621289.30</td>\n",
       "      <td>4113.35</td>\n",
       "    </tr>\n",
       "    <tr>\n",
       "      <th>97272</th>\n",
       "      <td>1862046.00</td>\n",
       "      <td>3488.56</td>\n",
       "    </tr>\n",
       "  </tbody>\n",
       "</table>\n",
       "</div>"
      ],
      "text/plain": [
       "                 kWh  Cost in GBP\n",
       "Meter ID                         \n",
       "12455      512132.34       150.75\n",
       "20553      213474.88        64.09\n",
       "28378       94886.72        32.05\n",
       "37792      109346.88        36.81\n",
       "57652     1763842.71      4334.88\n",
       "58096      758279.81       227.65\n",
       "73309     1236076.81       370.95\n",
       "74390      619893.16       145.56\n",
       "90564     1621289.30      4113.35\n",
       "97272     1862046.00      3488.56"
      ]
     },
     "execution_count": 278,
     "metadata": {},
     "output_type": "execute_result"
    }
   ],
   "source": [
    "#Output for 10 random meters for a period of 2 years\n",
    "n = 10\n",
    "meters = generate_meters(length = n)\n",
    "start = datetime(2020,10,1)\n",
    "end = datetime(2022,10,1)\n",
    "consumption = generate_consumption(meters, start, end)\n",
    "calculate_total(consumption, meters, rates)"
   ]
  },
  {
   "cell_type": "code",
   "execution_count": 280,
   "metadata": {},
   "outputs": [
    {
     "name": "stdout",
     "output_type": "stream",
     "text": [
      "69.6 ms ± 4.18 ms per loop (mean ± std. dev. of 7 runs, 10 loops each)\n"
     ]
    }
   ],
   "source": [
    "#Sample runtime for 100 meters\n",
    "n = 100\n",
    "meters = generate_meters(length = n)\n",
    "start = datetime(2020,10,1)\n",
    "end = datetime(2022,10,1)\n",
    "consumption = generate_consumption(meters, start, end)\n",
    "%timeit calculate_total(consumption, meters, rates)"
   ]
  },
  {
   "cell_type": "code",
   "execution_count": 204,
   "metadata": {},
   "outputs": [],
   "source": [
    "#Part 5\n",
    "def benchmark():\n",
    "    \"\"\" \n",
    "    Function to generate performance benchmark data for combinations of durations and no. of meters\n",
    "    Returns two lists -> table_size and delta\n",
    "    \"\"\"\n",
    "    delta = []\n",
    "    table_size = []\n",
    "    for n_years in range(1,5):\n",
    "        for n in range(5, 200, 5):\n",
    "            meters = generate_meters(length = n)\n",
    "            start = datetime(2020,4,1)\n",
    "            end = datetime(2020 + n_years,4,1)\n",
    "            consumption = generate_consumption(meters, start, end)\n",
    "            tstart = timer()\n",
    "            calculate_total(meters, consumption, rates)\n",
    "            tstop = timer()\n",
    "            delta.append(round((tstop - tstart)*1000, 2))\n",
    "            table_size.append(len(consumption))\n",
    "\n",
    "    return table_size, delta"
   ]
  },
  {
   "cell_type": "code",
   "execution_count": 203,
   "metadata": {},
   "outputs": [
    {
     "data": {
      "text/plain": [
       "Text(0, 0.5, 'Execution Time (ms)')"
      ]
     },
     "execution_count": 203,
     "metadata": {},
     "output_type": "execute_result"
    },
    {
     "data": {
      "image/png": "[encoded data removed]",
      "text/plain": [
       "<Figure size 864x576 with 1 Axes>"
      ]
     },
     "metadata": {
      "needs_background": "light"
     },
     "output_type": "display_data"
    }
   ],
   "source": [
    "import matplotlib.pyplot as plt\n",
    "table_size, delta = benchmark()\n",
    "plt.figure(figsize=(12,8))\n",
    "plt.scatter(table_size, delta)\n",
    "plt.title('Size of Forecast Table VS Exectution Time (ms)')\n",
    "plt.xlabel('Length of forecast (No.of meters * No. of days)')\n",
    "plt.ylabel('Execution Time (ms)')"
   ]
  },
  {
   "cell_type": "code",
   "execution_count": 293,
   "metadata": {},
   "outputs": [
    {
     "name": "stdout",
     "output_type": "stream",
     "text": [
      "The line_profiler extension is already loaded. To reload it, use:\n",
      "  %reload_ext line_profiler\n"
     ]
    }
   ],
   "source": [
    "%load_ext line_profiler"
   ]
  },
  {
   "cell_type": "code",
   "execution_count": 294,
   "metadata": {},
   "outputs": [
    {
     "name": "stdout",
     "output_type": "stream",
     "text": [
      "Timer unit: 1e-07 s\n",
      "\n",
      "Total time: 0.0974514 s\n",
      "File: <ipython-input-277-aa41fa40277f>\n",
      "Function: calculate_total at line 1\n",
      "\n",
      "Line #      Hits         Time  Per Hit   % Time  Line Contents\n",
      "==============================================================\n",
      "     1                                           def calculate_total(meters, consumption, rates):\n",
      "     2                                               \n",
      "     3                                               \"\"\"\n",
      "     4                                               Function to calculate total Transportation Costs given a list of meters, consumption data and rate table\n",
      "     5                                           \n",
      "     6                                               Returns DataFrame with MeterID, total consumption for entire period (kWh) and total cost (GBP)\n",
      "     7                                               \"\"\"\n",
      "     8                                               \n",
      "     9                                               \n",
      "    10         1     277094.0 277094.0     28.4      temp = consumption.merge(meters, on = 'Meter ID', how = 'left')\n",
      "    11                                           \n",
      "    12                                               \n",
      "    13         1       6626.0   6626.0      0.7      periods = rates['Date'].unique()\n",
      "    14         1       2315.0   2315.0      0.2      aq_range = rates['Annual Quantity (Min)'].unique()\n",
      "    15                                           \n",
      "    16         2       3684.0   1842.0      0.4      cond = [(aq_range[0] <= temp['Annual Quantity (kWh)'].values) & (temp['Annual Quantity (kWh)'].values < aq_range[1]),\n",
      "    17         1       1623.0   1623.0      0.2      (aq_range[1] <= temp['Annual Quantity (kWh)'].values) & (temp['Annual Quantity (kWh)'].values < aq_range[2]),\n",
      "    18         1        660.0    660.0      0.1      (temp['Annual Quantity (kWh)'].values > aq_range[2])]\n",
      "    19         1          7.0      7.0      0.0      choice = aq_range\n",
      "    20                                           \n",
      "    21                                               \n",
      "    22         1      11073.0  11073.0      1.1      temp['Annual Quantity (Min)'] = np.select(cond, choice)\n",
      "    23                                           \n",
      "    24         9        205.0     22.8      0.0      for i in range(len(periods)-1):\n",
      "    25         8     273341.0  34167.6     28.0          temp['Date'][np.where((periods[i] <= temp['Date']) & (temp['Date'] < periods[i+1]))[0]] = periods[i]\n",
      "    26                                           \n",
      "    27                                               \n",
      "    28         1     244363.0 244363.0     25.1      merged_data = temp.merge(rates, how = 'left')\n",
      "    29         1      18659.0  18659.0      1.9      merged_data['Cost in GBP'] = (merged_data['kWh'] * merged_data['Rate (p/kWh)']) * 0.01\n",
      "    30                                           \n",
      "    31                                               #Return Total Consumption and Cost in GBP for all meters\n",
      "    32         1     134864.0 134864.0     13.8      return merged_data[['Meter ID', 'kWh','Cost in GBP']].groupby('Meter ID').sum().round(2)"
     ]
    }
   ],
   "source": [
    "%lprun -f calculate_total calculate_total(meters, consumption, rates)"
   ]
  },
  {
   "cell_type": "markdown",
   "metadata": {},
   "source": [
    "## 5. Benchmarking observations:\n",
    "\n",
    "- We can see that the function scales reasonably well with increase in the input size. The relationship resembles a nlog(n) curve.\n",
    "- From the line-profiler results, we can observe that the almost 1/3 of the time is taken by the for loop used to match the data range. \n",
    "- But it was not possible to find a vectorized solution to match the dates from the rate table (due to unequal array sizes)\n",
    "\n",
    "- The merge operations done on the tables also take up a considerable percentage of the execution time. But compared to other alternatives: searching for the appropriate row from the rate table using the np.where function with conditional statements or direct pandas indexing.\n",
    "\n",
    "- The final return statement that uses groupby function based on Meter ID.   "
   ]
  },
  {
   "cell_type": "markdown",
   "metadata": {},
   "source": [
    "### Possible improvements\n",
    "- Look into operations that can be vectorized \n",
    "- Using Cython instead of python for loops\n",
    "- Making use of parallel computing using tools like Dask"
   ]
  },
  {
   "cell_type": "markdown",
   "metadata": {},
   "source": []
  }
 ],
 "metadata": {
  "interpreter": {
   "hash": "4d0689eb2e76c6c2812ccd0fb2b8e8648a6458c2f1986e4f9579173e413601c7"
  },
  "kernelspec": {
   "display_name": "Python 3.9.4 64-bit ('venv1': conda)",
   "language": "python",
   "name": "python3"
  },
  "language_info": {
   "codemirror_mode": {
    "name": "ipython",
    "version": 3
   },
   "file_extension": ".py",
   "mimetype": "text/x-python",
   "name": "python",
   "nbconvert_exporter": "python",
   "pygments_lexer": "ipython3",
   "version": "3.9.4"
  },
  "orig_nbformat": 4
 },
 "nbformat": 4,
 "nbformat_minor": 2
}
